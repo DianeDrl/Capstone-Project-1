{
 "cells": [
  {
   "cell_type": "markdown",
   "metadata": {},
   "source": [
    "# Capstone Project 1"
   ]
  },
  {
   "cell_type": "markdown",
   "metadata": {},
   "source": [
    "## Data Wrangling"
   ]
  },
  {
   "cell_type": "markdown",
   "metadata": {},
   "source": [
    "### Importing dataframes"
   ]
  },
  {
   "cell_type": "code",
   "execution_count": 1,
   "metadata": {},
   "outputs": [],
   "source": [
    "import pandas as pd\n",
    "import numpy as np\n",
    "import matplotlib.pyplot as plt"
   ]
  },
  {
   "cell_type": "code",
   "execution_count": 2,
   "metadata": {},
   "outputs": [],
   "source": [
    "# Importing Dataframes\n",
    "healthcares=pd.read_csv('annuaire-des-professionnels-de-sante.csv',delimiter=';')\n",
    "municipalities=pd.read_csv('code-postal-code-insee-2015.csv',delimiter=';')"
   ]
  },
  {
   "cell_type": "code",
   "execution_count": 3,
   "metadata": {},
   "outputs": [
    {
     "name": "stdout",
     "output_type": "stream",
     "text": [
      "<class 'pandas.core.frame.DataFrame'>\n",
      "RangeIndex: 149477 entries, 0 to 149476\n",
      "Data columns (total 21 columns):\n",
      "Civilité                                        149443 non-null object\n",
      "Code Postal                                     149477 non-null int64\n",
      "Commune                                         149477 non-null object\n",
      "Téléphone                                       124193 non-null object\n",
      "Code profession                                 149477 non-null int64\n",
      "Mode d'exercice particulier                     3409 non-null object\n",
      "Nature de l'exercice                            149477 non-null object\n",
      "Convention du professionnel                     149477 non-null object\n",
      "Sesam Vitale                                    149477 non-null object\n",
      "Types d'actes techniques réalisés               109170 non-null object\n",
      "Codes CCAM des actes techniques réalisés        109179 non-null object\n",
      "Actes techniques réalisés                       109179 non-null object\n",
      "Codes CCAM + Phase Actes techniques réalisés    109179 non-null object\n",
      "Adresse                                         149477 non-null object\n",
      "Nom du professionnel                            149477 non-null object\n",
      "Profession                                      149477 non-null object\n",
      "Coordonnées                                     133858 non-null object\n",
      "Code INSEE                                      133857 non-null object\n",
      "EPCI                                            128049 non-null object\n",
      "Département                                     133857 non-null object\n",
      "Région                                          133857 non-null object\n",
      "dtypes: int64(2), object(19)\n",
      "memory usage: 23.9+ MB\n",
      "None\n"
     ]
    }
   ],
   "source": [
    "print(healthcares.info())"
   ]
  },
  {
   "cell_type": "code",
   "execution_count": 4,
   "metadata": {},
   "outputs": [
    {
     "name": "stdout",
     "output_type": "stream",
     "text": [
      "<class 'pandas.core.frame.DataFrame'>\n",
      "RangeIndex: 39724 entries, 0 to 39723\n",
      "Data columns (total 25 columns):\n",
      "Geo Point               39724 non-null object\n",
      "Geo Shape               39721 non-null object\n",
      "ID_GEOFLA               39711 non-null object\n",
      "CODE_COM                39711 non-null float64\n",
      "INSEE_COM               39711 non-null object\n",
      "NOM_COM                 39711 non-null object\n",
      "STATUT                  39711 non-null object\n",
      "X_CHF_LIEU              39711 non-null float64\n",
      "Y_CHF_LIEU              39711 non-null float64\n",
      "X_CENTROID              39711 non-null float64\n",
      "Y_CENTROID              39711 non-null float64\n",
      "Z_MOYEN                 39711 non-null float64\n",
      "SUPERFICIE              39711 non-null float64\n",
      "POPULATION              39701 non-null float64\n",
      "CODE_CANT               39566 non-null float64\n",
      "CODE_ARR                39688 non-null float64\n",
      "CODE_DEPT               39711 non-null object\n",
      "NOM_DEPT                39711 non-null object\n",
      "CODE_REG                39711 non-null object\n",
      "NOM_REG                 39704 non-null object\n",
      "Ligne_5                 3055 non-null object\n",
      "Libelle_acheminement    38934 non-null object\n",
      "Code_postal             38934 non-null object\n",
      "Nom_commune             38934 non-null object\n",
      "coordonnees_gps         39701 non-null object\n",
      "dtypes: float64(10), object(15)\n",
      "memory usage: 7.6+ MB\n",
      "None\n"
     ]
    }
   ],
   "source": [
    "print(municipalities.info())"
   ]
  },
  {
   "cell_type": "code",
   "execution_count": 5,
   "metadata": {},
   "outputs": [
    {
     "data": {
      "text/html": [
       "<div>\n",
       "<style scoped>\n",
       "    .dataframe tbody tr th:only-of-type {\n",
       "        vertical-align: middle;\n",
       "    }\n",
       "\n",
       "    .dataframe tbody tr th {\n",
       "        vertical-align: top;\n",
       "    }\n",
       "\n",
       "    .dataframe thead th {\n",
       "        text-align: right;\n",
       "    }\n",
       "</style>\n",
       "<table border=\"1\" class=\"dataframe\">\n",
       "  <thead>\n",
       "    <tr style=\"text-align: right;\">\n",
       "      <th></th>\n",
       "      <th>Civilité</th>\n",
       "      <th>Code Postal</th>\n",
       "      <th>Commune</th>\n",
       "      <th>Téléphone</th>\n",
       "      <th>Code profession</th>\n",
       "      <th>Mode d'exercice particulier</th>\n",
       "      <th>Nature de l'exercice</th>\n",
       "      <th>Convention du professionnel</th>\n",
       "      <th>Sesam Vitale</th>\n",
       "      <th>Types d'actes techniques réalisés</th>\n",
       "      <th>...</th>\n",
       "      <th>Actes techniques réalisés</th>\n",
       "      <th>Codes CCAM + Phase Actes techniques réalisés</th>\n",
       "      <th>Adresse</th>\n",
       "      <th>Nom du professionnel</th>\n",
       "      <th>Profession</th>\n",
       "      <th>Coordonnées</th>\n",
       "      <th>Code INSEE</th>\n",
       "      <th>EPCI</th>\n",
       "      <th>Département</th>\n",
       "      <th>Région</th>\n",
       "    </tr>\n",
       "  </thead>\n",
       "  <tbody>\n",
       "    <tr>\n",
       "      <th>0</th>\n",
       "      <td>Femme</td>\n",
       "      <td>10300</td>\n",
       "      <td>STE SAVINE</td>\n",
       "      <td>03.25.79.90.92</td>\n",
       "      <td>18</td>\n",
       "      <td>NaN</td>\n",
       "      <td>Libéral intégral</td>\n",
       "      <td>Secteur 1 ou conventionné</td>\n",
       "      <td>Lecteur de carte Sesam Vitale</td>\n",
       "      <td>Actes de Prophylaxie et Prévention,Actes d'ima...</td>\n",
       "      <td>...</td>\n",
       "      <td>Pose d'un plan de libération occlusale,Adjonct...</td>\n",
       "      <td>HBLD4520,HBBD0060,HBLD0380,HBFD0060,HBLD4180,H...</td>\n",
       "      <td>63 AVENUE GALLIENI  10300 STE SAVINE</td>\n",
       "      <td>VERONIQUE COMTE</td>\n",
       "      <td>Chirurgien-dentiste</td>\n",
       "      <td>48.293903, 4.05555</td>\n",
       "      <td>10362</td>\n",
       "      <td>CA Troyes Champagne Métropole</td>\n",
       "      <td>AUBE</td>\n",
       "      <td>GRAND EST</td>\n",
       "    </tr>\n",
       "    <tr>\n",
       "      <th>1</th>\n",
       "      <td>Femme</td>\n",
       "      <td>42660</td>\n",
       "      <td>ST GENEST MALIFAUX</td>\n",
       "      <td>04.77.51.70.68</td>\n",
       "      <td>18</td>\n",
       "      <td>NaN</td>\n",
       "      <td>Libéral intégral</td>\n",
       "      <td>Secteur 1 ou conventionné</td>\n",
       "      <td>Lecteur de carte Sesam Vitale</td>\n",
       "      <td>Actes de Prophylaxie et Prévention,Actes d'ima...</td>\n",
       "      <td>...</td>\n",
       "      <td>Pose d'un plan de libération occlusale,Exérèse...</td>\n",
       "      <td>HBLD0750,HBBD0060,HBMD0170,HBMD0200,HBLD0380,H...</td>\n",
       "      <td>18 RUE DU VELAY  42660 ST GENEST MALIFAUX</td>\n",
       "      <td>FRANCOISE CONDAMIN</td>\n",
       "      <td>Chirurgien-dentiste</td>\n",
       "      <td>45.339643, 4.418339</td>\n",
       "      <td>42224</td>\n",
       "      <td>CC des Monts du Pilat</td>\n",
       "      <td>LOIRE</td>\n",
       "      <td>AUVERGNE-RHONE-ALPES</td>\n",
       "    </tr>\n",
       "    <tr>\n",
       "      <th>2</th>\n",
       "      <td>Femme</td>\n",
       "      <td>59830</td>\n",
       "      <td>CYSOING</td>\n",
       "      <td>03.20.79.54.07</td>\n",
       "      <td>18</td>\n",
       "      <td>NaN</td>\n",
       "      <td>Libéral intégral</td>\n",
       "      <td>Secteur 1 ou conventionné</td>\n",
       "      <td>Lecteur de carte Sesam Vitale</td>\n",
       "      <td>Actes de Prophylaxie et Prévention,Actes d'ima...</td>\n",
       "      <td>...</td>\n",
       "      <td>Restauration d'une dent d’un secteur incisivoc...</td>\n",
       "      <td>HBLD1230,HBMD0200,HBLD0380,HBMD0530,HBMD0540,H...</td>\n",
       "      <td>83 RUE ROGER SALENGRO  59830 CYSOING</td>\n",
       "      <td>DENISE COPIN</td>\n",
       "      <td>Chirurgien-dentiste</td>\n",
       "      <td>50.567909, 3.216851</td>\n",
       "      <td>59168</td>\n",
       "      <td>CC Pévèle-Carembault</td>\n",
       "      <td>NORD</td>\n",
       "      <td>HAUTS-DE-FRANCE</td>\n",
       "    </tr>\n",
       "    <tr>\n",
       "      <th>3</th>\n",
       "      <td>Femme</td>\n",
       "      <td>62190</td>\n",
       "      <td>LILLERS</td>\n",
       "      <td>07.71.83.09.91</td>\n",
       "      <td>18</td>\n",
       "      <td>NaN</td>\n",
       "      <td>Libéral intégral</td>\n",
       "      <td>Secteur 1 ou conventionné</td>\n",
       "      <td>Lecteur de carte Sesam Vitale</td>\n",
       "      <td>Actes de Prophylaxie et Prévention,Actes d'ima...</td>\n",
       "      <td>...</td>\n",
       "      <td>Restauration d'une dent d’un secteur incisivoc...</td>\n",
       "      <td>HBMD0530,HBFD0030,HBGD0350,HBMD0500,HBMD0440,H...</td>\n",
       "      <td>CABINET DU DR COMPAGNON ZAC DE LA HAYE 120 RUE...</td>\n",
       "      <td>JULIE COMPAGNON</td>\n",
       "      <td>Chirurgien-dentiste</td>\n",
       "      <td>50.56338, 2.466451</td>\n",
       "      <td>62516</td>\n",
       "      <td>CA de Béthune-Bruay, Artois-Lys Romane</td>\n",
       "      <td>PAS-DE-CALAIS</td>\n",
       "      <td>HAUTS-DE-FRANCE</td>\n",
       "    </tr>\n",
       "    <tr>\n",
       "      <th>4</th>\n",
       "      <td>Femme</td>\n",
       "      <td>21450</td>\n",
       "      <td>VILLAINES EN DUESMOIS</td>\n",
       "      <td>03.80.89.04.44</td>\n",
       "      <td>45</td>\n",
       "      <td>NaN</td>\n",
       "      <td>Libéral intégral</td>\n",
       "      <td>Secteur 1 ou conventionné</td>\n",
       "      <td>Lecteur de carte Sesam Vitale</td>\n",
       "      <td>Actes techniques médicaux (hors imagerie)</td>\n",
       "      <td>...</td>\n",
       "      <td>Injection thérapeutique d'agent pharmacologiqu...</td>\n",
       "      <td>JKHD0010,MZLB0010</td>\n",
       "      <td>3 ROUTE DE MONTBARD  21450 VILLAINES EN DUESMOIS</td>\n",
       "      <td>ELENA CORBEANU</td>\n",
       "      <td>Médecin généraliste</td>\n",
       "      <td>47.679272, 4.524453</td>\n",
       "      <td>21685</td>\n",
       "      <td>CC du Pays Châtillonnais</td>\n",
       "      <td>COTE-D'OR</td>\n",
       "      <td>BOURGOGNE-FRANCHE-COMTE</td>\n",
       "    </tr>\n",
       "  </tbody>\n",
       "</table>\n",
       "<p>5 rows × 21 columns</p>\n",
       "</div>"
      ],
      "text/plain": [
       "  Civilité  Code Postal                Commune       Téléphone  \\\n",
       "0    Femme        10300             STE SAVINE  03.25.79.90.92   \n",
       "1    Femme        42660     ST GENEST MALIFAUX  04.77.51.70.68   \n",
       "2    Femme        59830                CYSOING  03.20.79.54.07   \n",
       "3    Femme        62190                LILLERS  07.71.83.09.91   \n",
       "4    Femme        21450  VILLAINES EN DUESMOIS  03.80.89.04.44   \n",
       "\n",
       "   Code profession Mode d'exercice particulier Nature de l'exercice  \\\n",
       "0               18                         NaN     Libéral intégral   \n",
       "1               18                         NaN     Libéral intégral   \n",
       "2               18                         NaN     Libéral intégral   \n",
       "3               18                         NaN     Libéral intégral   \n",
       "4               45                         NaN     Libéral intégral   \n",
       "\n",
       "  Convention du professionnel                   Sesam Vitale  \\\n",
       "0   Secteur 1 ou conventionné  Lecteur de carte Sesam Vitale   \n",
       "1   Secteur 1 ou conventionné  Lecteur de carte Sesam Vitale   \n",
       "2   Secteur 1 ou conventionné  Lecteur de carte Sesam Vitale   \n",
       "3   Secteur 1 ou conventionné  Lecteur de carte Sesam Vitale   \n",
       "4   Secteur 1 ou conventionné  Lecteur de carte Sesam Vitale   \n",
       "\n",
       "                   Types d'actes techniques réalisés           ...             \\\n",
       "0  Actes de Prophylaxie et Prévention,Actes d'ima...           ...              \n",
       "1  Actes de Prophylaxie et Prévention,Actes d'ima...           ...              \n",
       "2  Actes de Prophylaxie et Prévention,Actes d'ima...           ...              \n",
       "3  Actes de Prophylaxie et Prévention,Actes d'ima...           ...              \n",
       "4          Actes techniques médicaux (hors imagerie)           ...              \n",
       "\n",
       "                           Actes techniques réalisés  \\\n",
       "0  Pose d'un plan de libération occlusale,Adjonct...   \n",
       "1  Pose d'un plan de libération occlusale,Exérèse...   \n",
       "2  Restauration d'une dent d’un secteur incisivoc...   \n",
       "3  Restauration d'une dent d’un secteur incisivoc...   \n",
       "4  Injection thérapeutique d'agent pharmacologiqu...   \n",
       "\n",
       "        Codes CCAM + Phase Actes techniques réalisés  \\\n",
       "0  HBLD4520,HBBD0060,HBLD0380,HBFD0060,HBLD4180,H...   \n",
       "1  HBLD0750,HBBD0060,HBMD0170,HBMD0200,HBLD0380,H...   \n",
       "2  HBLD1230,HBMD0200,HBLD0380,HBMD0530,HBMD0540,H...   \n",
       "3  HBMD0530,HBFD0030,HBGD0350,HBMD0500,HBMD0440,H...   \n",
       "4                                  JKHD0010,MZLB0010   \n",
       "\n",
       "                                             Adresse Nom du professionnel  \\\n",
       "0               63 AVENUE GALLIENI  10300 STE SAVINE      VERONIQUE COMTE   \n",
       "1          18 RUE DU VELAY  42660 ST GENEST MALIFAUX   FRANCOISE CONDAMIN   \n",
       "2               83 RUE ROGER SALENGRO  59830 CYSOING         DENISE COPIN   \n",
       "3  CABINET DU DR COMPAGNON ZAC DE LA HAYE 120 RUE...      JULIE COMPAGNON   \n",
       "4   3 ROUTE DE MONTBARD  21450 VILLAINES EN DUESMOIS       ELENA CORBEANU   \n",
       "\n",
       "            Profession          Coordonnées Code INSEE  \\\n",
       "0  Chirurgien-dentiste   48.293903, 4.05555      10362   \n",
       "1  Chirurgien-dentiste  45.339643, 4.418339      42224   \n",
       "2  Chirurgien-dentiste  50.567909, 3.216851      59168   \n",
       "3  Chirurgien-dentiste   50.56338, 2.466451      62516   \n",
       "4  Médecin généraliste  47.679272, 4.524453      21685   \n",
       "\n",
       "                                     EPCI    Département  \\\n",
       "0           CA Troyes Champagne Métropole           AUBE   \n",
       "1                   CC des Monts du Pilat          LOIRE   \n",
       "2                    CC Pévèle-Carembault           NORD   \n",
       "3  CA de Béthune-Bruay, Artois-Lys Romane  PAS-DE-CALAIS   \n",
       "4                CC du Pays Châtillonnais      COTE-D'OR   \n",
       "\n",
       "                    Région  \n",
       "0                GRAND EST  \n",
       "1     AUVERGNE-RHONE-ALPES  \n",
       "2          HAUTS-DE-FRANCE  \n",
       "3          HAUTS-DE-FRANCE  \n",
       "4  BOURGOGNE-FRANCHE-COMTE  \n",
       "\n",
       "[5 rows x 21 columns]"
      ]
     },
     "execution_count": 5,
     "metadata": {},
     "output_type": "execute_result"
    }
   ],
   "source": [
    "healthcares.head()"
   ]
  },
  {
   "cell_type": "code",
   "execution_count": 6,
   "metadata": {
    "scrolled": true
   },
   "outputs": [
    {
     "data": {
      "text/html": [
       "<div>\n",
       "<style scoped>\n",
       "    .dataframe tbody tr th:only-of-type {\n",
       "        vertical-align: middle;\n",
       "    }\n",
       "\n",
       "    .dataframe tbody tr th {\n",
       "        vertical-align: top;\n",
       "    }\n",
       "\n",
       "    .dataframe thead th {\n",
       "        text-align: right;\n",
       "    }\n",
       "</style>\n",
       "<table border=\"1\" class=\"dataframe\">\n",
       "  <thead>\n",
       "    <tr style=\"text-align: right;\">\n",
       "      <th></th>\n",
       "      <th>Geo Point</th>\n",
       "      <th>Geo Shape</th>\n",
       "      <th>ID_GEOFLA</th>\n",
       "      <th>CODE_COM</th>\n",
       "      <th>INSEE_COM</th>\n",
       "      <th>NOM_COM</th>\n",
       "      <th>STATUT</th>\n",
       "      <th>X_CHF_LIEU</th>\n",
       "      <th>Y_CHF_LIEU</th>\n",
       "      <th>X_CENTROID</th>\n",
       "      <th>...</th>\n",
       "      <th>CODE_ARR</th>\n",
       "      <th>CODE_DEPT</th>\n",
       "      <th>NOM_DEPT</th>\n",
       "      <th>CODE_REG</th>\n",
       "      <th>NOM_REG</th>\n",
       "      <th>Ligne_5</th>\n",
       "      <th>Libelle_acheminement</th>\n",
       "      <th>Code_postal</th>\n",
       "      <th>Nom_commune</th>\n",
       "      <th>coordonnees_gps</th>\n",
       "    </tr>\n",
       "  </thead>\n",
       "  <tbody>\n",
       "    <tr>\n",
       "      <th>0</th>\n",
       "      <td>43.2213812599, -0.229479954692</td>\n",
       "      <td>{\"type\": \"Polygon\", \"coordinates\": [[[-0.21425...</td>\n",
       "      <td>COMMUNE00000000000012233</td>\n",
       "      <td>119.0</td>\n",
       "      <td>64119</td>\n",
       "      <td>BEUSTE</td>\n",
       "      <td>Commune simple</td>\n",
       "      <td>437369.0</td>\n",
       "      <td>6240814.0</td>\n",
       "      <td>437816.0</td>\n",
       "      <td>...</td>\n",
       "      <td>3.0</td>\n",
       "      <td>64</td>\n",
       "      <td>PYRENEES-ATLANTIQUES</td>\n",
       "      <td>75</td>\n",
       "      <td>AQUITAINE-LIMOUSIN-POITOU-CHARENTES</td>\n",
       "      <td>NaN</td>\n",
       "      <td>BEUSTE</td>\n",
       "      <td>64800</td>\n",
       "      <td>BEUSTE</td>\n",
       "      <td>43.2213812599, -0.229479954692</td>\n",
       "    </tr>\n",
       "    <tr>\n",
       "      <th>1</th>\n",
       "      <td>45.3088178571, 0.812461373925</td>\n",
       "      <td>{\"type\": \"Polygon\", \"coordinates\": [[[0.827398...</td>\n",
       "      <td>COMMUNE00000000000010957</td>\n",
       "      <td>239.0</td>\n",
       "      <td>24239</td>\n",
       "      <td>LIGUEUX</td>\n",
       "      <td>Commune simple</td>\n",
       "      <td>529105.0</td>\n",
       "      <td>6470098.0</td>\n",
       "      <td>528740.0</td>\n",
       "      <td>...</td>\n",
       "      <td>3.0</td>\n",
       "      <td>24</td>\n",
       "      <td>DORDOGNE</td>\n",
       "      <td>75</td>\n",
       "      <td>AQUITAINE-LIMOUSIN-POITOU-CHARENTES</td>\n",
       "      <td>NaN</td>\n",
       "      <td>NaN</td>\n",
       "      <td>NaN</td>\n",
       "      <td>NaN</td>\n",
       "      <td>45.3088178571, 0.812461373925</td>\n",
       "    </tr>\n",
       "    <tr>\n",
       "      <th>2</th>\n",
       "      <td>44.9958115913, 2.16384260373</td>\n",
       "      <td>{\"type\": \"Polygon\", \"coordinates\": [[[2.169220...</td>\n",
       "      <td>COMMUNE00000000000010998</td>\n",
       "      <td>135.0</td>\n",
       "      <td>15135</td>\n",
       "      <td>MONTVERT</td>\n",
       "      <td>Commune simple</td>\n",
       "      <td>633833.0</td>\n",
       "      <td>6433252.0</td>\n",
       "      <td>634558.0</td>\n",
       "      <td>...</td>\n",
       "      <td>1.0</td>\n",
       "      <td>15</td>\n",
       "      <td>CANTAL</td>\n",
       "      <td>84</td>\n",
       "      <td>AUVERGNE-RHONE-ALPES</td>\n",
       "      <td>NaN</td>\n",
       "      <td>MONTVERT</td>\n",
       "      <td>15150</td>\n",
       "      <td>MONTVERT</td>\n",
       "      <td>44.9958115913, 2.16384260373</td>\n",
       "    </tr>\n",
       "    <tr>\n",
       "      <th>3</th>\n",
       "      <td>42.995424347, 2.16142100485</td>\n",
       "      <td>{\"type\": \"Polygon\", \"coordinates\": [[[2.150276...</td>\n",
       "      <td>COMMUNE00000000000011061</td>\n",
       "      <td>45.0</td>\n",
       "      <td>11045</td>\n",
       "      <td>BOURIEGE</td>\n",
       "      <td>Commune simple</td>\n",
       "      <td>631944.0</td>\n",
       "      <td>6209982.0</td>\n",
       "      <td>631924.0</td>\n",
       "      <td>...</td>\n",
       "      <td>2.0</td>\n",
       "      <td>11</td>\n",
       "      <td>AUDE</td>\n",
       "      <td>76</td>\n",
       "      <td>LANGUEDOC-ROUSSILLON-MIDI-PYRENEES</td>\n",
       "      <td>NaN</td>\n",
       "      <td>BOURIEGE</td>\n",
       "      <td>11300</td>\n",
       "      <td>BOURIEGE</td>\n",
       "      <td>42.995424347, 2.16142100485</td>\n",
       "    </tr>\n",
       "    <tr>\n",
       "      <th>4</th>\n",
       "      <td>48.6279115585, 6.49593570879</td>\n",
       "      <td>{\"type\": \"Polygon\", \"coordinates\": [[[6.475699...</td>\n",
       "      <td>COMMUNE00000000000011047</td>\n",
       "      <td>83.0</td>\n",
       "      <td>54083</td>\n",
       "      <td>BONVILLER</td>\n",
       "      <td>Commune simple</td>\n",
       "      <td>957623.0</td>\n",
       "      <td>6842744.0</td>\n",
       "      <td>957546.0</td>\n",
       "      <td>...</td>\n",
       "      <td>2.0</td>\n",
       "      <td>54</td>\n",
       "      <td>MEURTHE-ET-MOSELLE</td>\n",
       "      <td>44</td>\n",
       "      <td>ALSACE-CHAMPAGNE-ARDENNE-LORRAINE</td>\n",
       "      <td>NaN</td>\n",
       "      <td>BONVILLER</td>\n",
       "      <td>54300</td>\n",
       "      <td>BONVILLER</td>\n",
       "      <td>48.6279115585, 6.49593570879</td>\n",
       "    </tr>\n",
       "  </tbody>\n",
       "</table>\n",
       "<p>5 rows × 25 columns</p>\n",
       "</div>"
      ],
      "text/plain": [
       "                        Geo Point  \\\n",
       "0  43.2213812599, -0.229479954692   \n",
       "1   45.3088178571, 0.812461373925   \n",
       "2    44.9958115913, 2.16384260373   \n",
       "3     42.995424347, 2.16142100485   \n",
       "4    48.6279115585, 6.49593570879   \n",
       "\n",
       "                                           Geo Shape  \\\n",
       "0  {\"type\": \"Polygon\", \"coordinates\": [[[-0.21425...   \n",
       "1  {\"type\": \"Polygon\", \"coordinates\": [[[0.827398...   \n",
       "2  {\"type\": \"Polygon\", \"coordinates\": [[[2.169220...   \n",
       "3  {\"type\": \"Polygon\", \"coordinates\": [[[2.150276...   \n",
       "4  {\"type\": \"Polygon\", \"coordinates\": [[[6.475699...   \n",
       "\n",
       "                  ID_GEOFLA  CODE_COM INSEE_COM    NOM_COM          STATUT  \\\n",
       "0  COMMUNE00000000000012233     119.0     64119     BEUSTE  Commune simple   \n",
       "1  COMMUNE00000000000010957     239.0     24239    LIGUEUX  Commune simple   \n",
       "2  COMMUNE00000000000010998     135.0     15135   MONTVERT  Commune simple   \n",
       "3  COMMUNE00000000000011061      45.0     11045   BOURIEGE  Commune simple   \n",
       "4  COMMUNE00000000000011047      83.0     54083  BONVILLER  Commune simple   \n",
       "\n",
       "   X_CHF_LIEU  Y_CHF_LIEU  X_CENTROID               ...                \\\n",
       "0    437369.0   6240814.0    437816.0               ...                 \n",
       "1    529105.0   6470098.0    528740.0               ...                 \n",
       "2    633833.0   6433252.0    634558.0               ...                 \n",
       "3    631944.0   6209982.0    631924.0               ...                 \n",
       "4    957623.0   6842744.0    957546.0               ...                 \n",
       "\n",
       "   CODE_ARR  CODE_DEPT              NOM_DEPT  CODE_REG  \\\n",
       "0       3.0         64  PYRENEES-ATLANTIQUES        75   \n",
       "1       3.0         24              DORDOGNE        75   \n",
       "2       1.0         15                CANTAL        84   \n",
       "3       2.0         11                  AUDE        76   \n",
       "4       2.0         54    MEURTHE-ET-MOSELLE        44   \n",
       "\n",
       "                               NOM_REG  Ligne_5 Libelle_acheminement  \\\n",
       "0  AQUITAINE-LIMOUSIN-POITOU-CHARENTES      NaN               BEUSTE   \n",
       "1  AQUITAINE-LIMOUSIN-POITOU-CHARENTES      NaN                  NaN   \n",
       "2                 AUVERGNE-RHONE-ALPES      NaN             MONTVERT   \n",
       "3   LANGUEDOC-ROUSSILLON-MIDI-PYRENEES      NaN             BOURIEGE   \n",
       "4    ALSACE-CHAMPAGNE-ARDENNE-LORRAINE      NaN            BONVILLER   \n",
       "\n",
       "  Code_postal Nom_commune                 coordonnees_gps  \n",
       "0       64800      BEUSTE  43.2213812599, -0.229479954692  \n",
       "1         NaN         NaN   45.3088178571, 0.812461373925  \n",
       "2       15150    MONTVERT    44.9958115913, 2.16384260373  \n",
       "3       11300    BOURIEGE     42.995424347, 2.16142100485  \n",
       "4       54300   BONVILLER    48.6279115585, 6.49593570879  \n",
       "\n",
       "[5 rows x 25 columns]"
      ]
     },
     "execution_count": 6,
     "metadata": {},
     "output_type": "execute_result"
    }
   ],
   "source": [
    "municipalities.head()"
   ]
  },
  {
   "cell_type": "markdown",
   "metadata": {},
   "source": [
    "### Data Cleaning"
   ]
  },
  {
   "cell_type": "code",
   "execution_count": 7,
   "metadata": {},
   "outputs": [],
   "source": [
    "# Removing the column in the healthcares dataframe with too many NaN Values \n",
    "healthcares=healthcares.dropna(thresh=100000,axis='columns')"
   ]
  },
  {
   "cell_type": "code",
   "execution_count": 8,
   "metadata": {},
   "outputs": [],
   "source": [
    "# Removing the column in the healthcares dataframe with too many NaN Values \n",
    "municipalities=municipalities.dropna(thresh=5000,axis='columns')"
   ]
  },
  {
   "cell_type": "code",
   "execution_count": 9,
   "metadata": {},
   "outputs": [],
   "source": [
    "# Filtering both dataframes by removing the NaN Values from the 'Code INSEE' & 'INSEE_COM' columns\n",
    "healthcares=healthcares[healthcares['Code INSEE'].notnull()]\n",
    "municipalities=municipalities[municipalities['INSEE_COM'].notnull()]"
   ]
  },
  {
   "cell_type": "code",
   "execution_count": 10,
   "metadata": {},
   "outputs": [],
   "source": [
    "# Filtering both dataframes by removing the NaN Values from the 'Code Postal' & 'Code_postal' columns\n",
    "Healthcares=healthcares[healthcares['Code Postal'].notnull()]\n",
    "Municipalities=municipalities[municipalities['Code_postal'].notnull()]"
   ]
  },
  {
   "cell_type": "code",
   "execution_count": 11,
   "metadata": {},
   "outputs": [],
   "source": [
    "# Removing the overseas department \n",
    "Municipalities=Municipalities[(Municipalities['NOM_REG']!='REUNION')&(Municipalities['NOM_REG']!='MARTINIQUE')&\n",
    "                             (Municipalities['NOM_REG']!='MAYOTTE')&(Municipalities['NOM_REG']!='GUADELOUPE')&\n",
    "                             (Municipalities['NOM_REG']!='GUYANE')]\n",
    "Healthcares=Healthcares[(Healthcares['Région']!='LA REUNION')&(Healthcares['Région']!='MARTINIQUE')&\n",
    "                       (Healthcares['Région']!='MAYOTTE')&(Healthcares['Région']!='GUADELOUPE')&\n",
    "                       (Healthcares['Région']!='GUYANE')]"
   ]
  },
  {
   "cell_type": "code",
   "execution_count": 12,
   "metadata": {},
   "outputs": [
    {
     "data": {
      "text/plain": [
       "dtype('O')"
      ]
     },
     "execution_count": 12,
     "metadata": {},
     "output_type": "execute_result"
    }
   ],
   "source": [
    "# dtype values of the 'Code_postal' column\n",
    "Zip_code=Municipalities['Code_postal']\n",
    "Zip_code.dtype"
   ]
  },
  {
   "cell_type": "code",
   "execution_count": 13,
   "metadata": {},
   "outputs": [
    {
     "data": {
      "text/plain": [
       "['ST LAURENT DU MARONI',\n",
       " 'ST ELIE',\n",
       " 'ROURA',\n",
       " 'ROURA',\n",
       " 'REGINA',\n",
       " 'REGINA',\n",
       " 'MARIPASOULA',\n",
       " 'MANA',\n",
       " 'MANA',\n",
       " 'CAMOPI',\n",
       " '9800',\n",
       " '9800',\n",
       " '9800',\n",
       " '9800',\n",
       " '9800']"
      ]
     },
     "execution_count": 13,
     "metadata": {},
     "output_type": "execute_result"
    }
   ],
   "source": [
    "# Find the str values in the 'Code_postal' column \n",
    "sorted(Zip_code,reverse=True)[:15]"
   ]
  },
  {
   "cell_type": "code",
   "execution_count": 14,
   "metadata": {},
   "outputs": [],
   "source": [
    "# Removing the str values in the 'Code_postal' column and converting them in integer values\n",
    "Municipalities=Municipalities[(Municipalities['Code_postal']!='ST LAURENT DU MARONI')&\n",
    "                              (Municipalities['Code_postal']!='ST ELIE')&(Municipalities['Code_postal']!='ROURA')&\n",
    "                              (Municipalities['Code_postal']!='REGINA')&(Municipalities['Code_postal']!='MARIPASOULA')&\n",
    "                              (Municipalities['Code_postal']!='MANA')&(Municipalities['Code_postal']!='CAMOPI')]\n",
    "Municipalities['Code_postal']=Municipalities['Code_postal'].astype(int)"
   ]
  },
  {
   "cell_type": "code",
   "execution_count": 15,
   "metadata": {},
   "outputs": [
    {
     "name": "stderr",
     "output_type": "stream",
     "text": [
      "C:\\Users\\Diane\\Anaconda3\\lib\\site-packages\\ipykernel_launcher.py:2: SettingWithCopyWarning: \n",
      "A value is trying to be set on a copy of a slice from a DataFrame\n",
      "\n",
      "See the caveats in the documentation: http://pandas.pydata.org/pandas-docs/stable/indexing.html#indexing-view-versus-copy\n",
      "  \n",
      "C:\\Users\\Diane\\Anaconda3\\lib\\site-packages\\ipykernel_launcher.py:3: SettingWithCopyWarning: \n",
      "A value is trying to be set on a copy of a slice from a DataFrame\n",
      "\n",
      "See the caveats in the documentation: http://pandas.pydata.org/pandas-docs/stable/indexing.html#indexing-view-versus-copy\n",
      "  This is separate from the ipykernel package so we can avoid doing imports until\n",
      "C:\\Users\\Diane\\Anaconda3\\lib\\site-packages\\ipykernel_launcher.py:4: SettingWithCopyWarning: \n",
      "A value is trying to be set on a copy of a slice from a DataFrame\n",
      "\n",
      "See the caveats in the documentation: http://pandas.pydata.org/pandas-docs/stable/indexing.html#indexing-view-versus-copy\n",
      "  after removing the cwd from sys.path.\n",
      "C:\\Users\\Diane\\Anaconda3\\lib\\site-packages\\ipykernel_launcher.py:5: SettingWithCopyWarning: \n",
      "A value is trying to be set on a copy of a slice from a DataFrame\n",
      "\n",
      "See the caveats in the documentation: http://pandas.pydata.org/pandas-docs/stable/indexing.html#indexing-view-versus-copy\n",
      "  \"\"\"\n"
     ]
    }
   ],
   "source": [
    "# Changing some incorrect name in Municipalities \n",
    "Municipalities.NOM_REG[Municipalities.NOM_REG=='LANGUEDOC-ROUSSILLON-MIDI-PYRENEES']='OCCITANIE'\n",
    "Municipalities.NOM_REG[Municipalities.NOM_REG=='AQUITAINE-LIMOUSIN-POITOU-CHARENTES']='NOUVELLE-AQUITAINE'\n",
    "Municipalities.NOM_REG[Municipalities.NOM_REG=='ALSACE-CHAMPAGNE-ARDENNE-LORRAINE']='GRAND EST'\n",
    "Municipalities.NOM_REG[Municipalities.NOM_REG=='NORD-PAS-DE-CALAIS-PICARDIE']='HAUTS-DE-FRANCE'"
   ]
  },
  {
   "cell_type": "markdown",
   "metadata": {},
   "source": [
    "### Creating a new column in Municipalities"
   ]
  },
  {
   "cell_type": "code",
   "execution_count": 16,
   "metadata": {},
   "outputs": [
    {
     "name": "stdout",
     "output_type": "stream",
     "text": [
      "0.1     106.0\n",
      "0.2     171.0\n",
      "0.3     246.0\n",
      "0.4     341.0\n",
      "0.5     478.0\n",
      "0.6     668.0\n",
      "0.7     982.0\n",
      "0.8    1589.0\n",
      "0.9    3386.0\n",
      "Name: POPULATION, dtype: float64\n"
     ]
    }
   ],
   "source": [
    "# Creating a new column to group municipalities by same range of population \n",
    "q=[0.1,0.2,0.3,0.4,0.5,0.6,0.7,0.8,0.9]\n",
    "u=Municipalities['POPULATION'].quantile(q)\n",
    "print(u)"
   ]
  },
  {
   "cell_type": "code",
   "execution_count": 17,
   "metadata": {},
   "outputs": [
    {
     "name": "stderr",
     "output_type": "stream",
     "text": [
      "C:\\Users\\Diane\\Anaconda3\\lib\\site-packages\\ipykernel_launcher.py:2: SettingWithCopyWarning: \n",
      "A value is trying to be set on a copy of a slice from a DataFrame\n",
      "\n",
      "See the caveats in the documentation: http://pandas.pydata.org/pandas-docs/stable/indexing.html#indexing-view-versus-copy\n",
      "  \n",
      "C:\\Users\\Diane\\Anaconda3\\lib\\site-packages\\ipykernel_launcher.py:3: SettingWithCopyWarning: \n",
      "A value is trying to be set on a copy of a slice from a DataFrame\n",
      "\n",
      "See the caveats in the documentation: http://pandas.pydata.org/pandas-docs/stable/indexing.html#indexing-view-versus-copy\n",
      "  This is separate from the ipykernel package so we can avoid doing imports until\n",
      "C:\\Users\\Diane\\Anaconda3\\lib\\site-packages\\ipykernel_launcher.py:4: SettingWithCopyWarning: \n",
      "A value is trying to be set on a copy of a slice from a DataFrame\n",
      "\n",
      "See the caveats in the documentation: http://pandas.pydata.org/pandas-docs/stable/indexing.html#indexing-view-versus-copy\n",
      "  after removing the cwd from sys.path.\n",
      "C:\\Users\\Diane\\Anaconda3\\lib\\site-packages\\ipykernel_launcher.py:5: SettingWithCopyWarning: \n",
      "A value is trying to be set on a copy of a slice from a DataFrame\n",
      "\n",
      "See the caveats in the documentation: http://pandas.pydata.org/pandas-docs/stable/indexing.html#indexing-view-versus-copy\n",
      "  \"\"\"\n",
      "C:\\Users\\Diane\\Anaconda3\\lib\\site-packages\\ipykernel_launcher.py:6: SettingWithCopyWarning: \n",
      "A value is trying to be set on a copy of a slice from a DataFrame\n",
      "\n",
      "See the caveats in the documentation: http://pandas.pydata.org/pandas-docs/stable/indexing.html#indexing-view-versus-copy\n",
      "  \n",
      "C:\\Users\\Diane\\Anaconda3\\lib\\site-packages\\ipykernel_launcher.py:7: SettingWithCopyWarning: \n",
      "A value is trying to be set on a copy of a slice from a DataFrame\n",
      "\n",
      "See the caveats in the documentation: http://pandas.pydata.org/pandas-docs/stable/indexing.html#indexing-view-versus-copy\n",
      "  import sys\n",
      "C:\\Users\\Diane\\Anaconda3\\lib\\site-packages\\ipykernel_launcher.py:8: SettingWithCopyWarning: \n",
      "A value is trying to be set on a copy of a slice from a DataFrame\n",
      "\n",
      "See the caveats in the documentation: http://pandas.pydata.org/pandas-docs/stable/indexing.html#indexing-view-versus-copy\n",
      "  \n",
      "C:\\Users\\Diane\\Anaconda3\\lib\\site-packages\\ipykernel_launcher.py:9: SettingWithCopyWarning: \n",
      "A value is trying to be set on a copy of a slice from a DataFrame\n",
      "\n",
      "See the caveats in the documentation: http://pandas.pydata.org/pandas-docs/stable/indexing.html#indexing-view-versus-copy\n",
      "  if __name__ == '__main__':\n",
      "C:\\Users\\Diane\\Anaconda3\\lib\\site-packages\\ipykernel_launcher.py:10: SettingWithCopyWarning: \n",
      "A value is trying to be set on a copy of a slice from a DataFrame\n",
      "\n",
      "See the caveats in the documentation: http://pandas.pydata.org/pandas-docs/stable/indexing.html#indexing-view-versus-copy\n",
      "  # Remove the CWD from sys.path while we load stuff.\n",
      "C:\\Users\\Diane\\Anaconda3\\lib\\site-packages\\ipykernel_launcher.py:11: SettingWithCopyWarning: \n",
      "A value is trying to be set on a copy of a slice from a DataFrame\n",
      "\n",
      "See the caveats in the documentation: http://pandas.pydata.org/pandas-docs/stable/indexing.html#indexing-view-versus-copy\n",
      "  # This is added back by InteractiveShellApp.init_path()\n"
     ]
    }
   ],
   "source": [
    "Municipalities['population_group']=''\n",
    "Municipalities.population_group[Municipalities.POPULATION<=u[q[0]]]='0-pop<106k'\n",
    "Municipalities.population_group[(Municipalities.POPULATION>u[q[0]])&(Municipalities.POPULATION<=u[q[1]])]='1-106k<pop<=171k'\n",
    "Municipalities.population_group[(Municipalities.POPULATION>u[q[1]])&(Municipalities.POPULATION<=u[q[2]])]='2-171k<pop<=246k'\n",
    "Municipalities.population_group[(Municipalities.POPULATION>u[q[2]])&(Municipalities.POPULATION<=u[q[3]])]='3-246k<pop<=341k'\n",
    "Municipalities.population_group[(Municipalities.POPULATION>u[q[3]])&(Municipalities.POPULATION<=u[q[4]])]='4-341k<pop<=478k'\n",
    "Municipalities.population_group[(Municipalities.POPULATION>u[q[4]])&(Municipalities.POPULATION<=u[q[5]])]='5-478k<pop<=668k'\n",
    "Municipalities.population_group[(Municipalities.POPULATION>u[q[5]])&(Municipalities.POPULATION<=u[q[6]])]='6-668k<pop<=982k'\n",
    "Municipalities.population_group[(Municipalities.POPULATION>u[q[6]])&(Municipalities.POPULATION<=u[q[7]])]='7-982k<pop<=1589k'\n",
    "Municipalities.population_group[(Municipalities.POPULATION>u[q[7]])&(Municipalities.POPULATION<=u[q[8]])]='8-1589k<pop<=3386k'\n",
    "Municipalities.population_group[Municipalities.POPULATION>u[q[8]]]='9-3386k<pop'"
   ]
  },
  {
   "cell_type": "code",
   "execution_count": 18,
   "metadata": {},
   "outputs": [
    {
     "name": "stderr",
     "output_type": "stream",
     "text": [
      "C:\\Users\\Diane\\Anaconda3\\lib\\site-packages\\ipykernel_launcher.py:7: SettingWithCopyWarning: \n",
      "A value is trying to be set on a copy of a slice from a DataFrame\n",
      "\n",
      "See the caveats in the documentation: http://pandas.pydata.org/pandas-docs/stable/indexing.html#indexing-view-versus-copy\n",
      "  import sys\n",
      "C:\\Users\\Diane\\Anaconda3\\lib\\site-packages\\ipykernel_launcher.py:12: SettingWithCopyWarning: \n",
      "A value is trying to be set on a copy of a slice from a DataFrame\n",
      "\n",
      "See the caveats in the documentation: http://pandas.pydata.org/pandas-docs/stable/indexing.html#indexing-view-versus-copy\n",
      "  if sys.path[0] == '':\n"
     ]
    }
   ],
   "source": [
    "# Creating a new column cutting France in two parts : North and South \n",
    "Municipalities['North_South']=''\n",
    "Municipalities.North_South[(Municipalities.NOM_REG=='AUVERGNE-RHONE-ALPES')|\n",
    "                           (Municipalities.NOM_REG=='CORSE')|\n",
    "                          (Municipalities.NOM_REG=='OCCITANIE')|\n",
    "                          (Municipalities.NOM_REG=='NOUVELLE-AQUITAINE')|\n",
    "                          (Municipalities.NOM_REG==\"PROVENCE-ALPES-COTE D'AZUR\")]='South'\n",
    "Municipalities.North_South[(Municipalities.NOM_REG!='AUVERGNE-RHONE-ALPES')&\n",
    "                           (Municipalities.NOM_REG!='CORSE')&\n",
    "                          (Municipalities.NOM_REG!='OCCITANIE')&\n",
    "                          (Municipalities.NOM_REG!='NOUVELLE-AQUITAINE')&\n",
    "                          (Municipalities.NOM_REG!=\"PROVENCE-ALPES-COTE D'AZUR\")]='North'"
   ]
  },
  {
   "cell_type": "markdown",
   "metadata": {},
   "source": [
    "### Merging both dataframes with Zip Code and Insee Code columns "
   ]
  },
  {
   "cell_type": "code",
   "execution_count": 23,
   "metadata": {},
   "outputs": [],
   "source": [
    "# Merging both dataframes through ['Code Postal','Code INSEE'] & ['Code_postal','INSEE_COM'] columns\n",
    "data_merge=pd.merge(Healthcares,Municipalities,left_on=['Code Postal','Code INSEE'],right_on=['Code_postal','INSEE_COM'],how='left')"
   ]
  },
  {
   "cell_type": "code",
   "execution_count": 24,
   "metadata": {},
   "outputs": [
    {
     "name": "stdout",
     "output_type": "stream",
     "text": [
      "<class 'pandas.core.frame.DataFrame'>\n",
      "Int64Index: 159753 entries, 0 to 159752\n",
      "Data columns (total 48 columns):\n",
      "Civilité                                        159717 non-null object\n",
      "Code Postal                                     159753 non-null object\n",
      "Commune                                         159753 non-null object\n",
      "Téléphone                                       133486 non-null object\n",
      "Code profession                                 159753 non-null int64\n",
      "Nature de l'exercice                            159753 non-null object\n",
      "Convention du professionnel                     159753 non-null object\n",
      "Sesam Vitale                                    159753 non-null object\n",
      "Types d'actes techniques réalisés               115992 non-null object\n",
      "Codes CCAM des actes techniques réalisés        116004 non-null object\n",
      "Actes techniques réalisés                       116004 non-null object\n",
      "Codes CCAM + Phase Actes techniques réalisés    116004 non-null object\n",
      "Adresse                                         159753 non-null object\n",
      "Nom du professionnel                            159753 non-null object\n",
      "Profession                                      159753 non-null object\n",
      "Coordonnées                                     159753 non-null object\n",
      "Code INSEE                                      159753 non-null object\n",
      "EPCI                                            152223 non-null object\n",
      "Département                                     159753 non-null object\n",
      "Région                                          159753 non-null object\n",
      "first_digits_zipcode_x                          159753 non-null object\n",
      "Geo Point                                       146224 non-null object\n",
      "Geo Shape                                       146224 non-null object\n",
      "ID_GEOFLA                                       146224 non-null object\n",
      "CODE_COM                                        146224 non-null float64\n",
      "INSEE_COM                                       146224 non-null object\n",
      "NOM_COM                                         146224 non-null object\n",
      "STATUT                                          146224 non-null object\n",
      "X_CHF_LIEU                                      146224 non-null float64\n",
      "Y_CHF_LIEU                                      146224 non-null float64\n",
      "X_CENTROID                                      146224 non-null float64\n",
      "Y_CENTROID                                      146224 non-null float64\n",
      "Z_MOYEN                                         146224 non-null float64\n",
      "SUPERFICIE                                      146224 non-null float64\n",
      "POPULATION                                      146224 non-null float64\n",
      "CODE_CANT                                       143852 non-null float64\n",
      "CODE_ARR                                        146224 non-null float64\n",
      "CODE_DEPT                                       146224 non-null object\n",
      "NOM_DEPT                                        146224 non-null object\n",
      "CODE_REG                                        146224 non-null object\n",
      "NOM_REG                                         146224 non-null object\n",
      "Libelle_acheminement                            146224 non-null object\n",
      "Code_postal                                     146224 non-null object\n",
      "Nom_commune                                     146224 non-null object\n",
      "coordonnees_gps                                 146224 non-null object\n",
      "population_group                                146224 non-null object\n",
      "North_South                                     146224 non-null object\n",
      "first_digits_zipcode_y                          146224 non-null object\n",
      "dtypes: float64(10), int64(1), object(37)\n",
      "memory usage: 59.7+ MB\n"
     ]
    }
   ],
   "source": [
    "data_merge.info()"
   ]
  },
  {
   "cell_type": "markdown",
   "metadata": {},
   "source": [
    "### Merging datasets using the first digits of zip codes "
   ]
  },
  {
   "cell_type": "code",
   "execution_count": 38,
   "metadata": {},
   "outputs": [
    {
     "name": "stdout",
     "output_type": "stream",
     "text": [
      "                      Population  Municipalities_number\n",
      "first_digits_zipcode                                   \n",
      "100                     145855.0                      4\n",
      "101                     105744.0                    138\n",
      "102                      43671.0                    129\n",
      "103                      39574.0                     65\n",
      "104                      40066.0                     37\n"
     ]
    }
   ],
   "source": [
    "# Creating new column with the first digits of zip code column - Municipalities\n",
    "Municipalities.Code_postal=Municipalities.Code_postal.astype('str')\n",
    "Municipalities['first_digits_zipcode']=Municipalities['Code_postal'].str[:3]\n",
    "Groupby_first_digits_zipcode_M=Municipalities.groupby('first_digits_zipcode')['POPULATION'].agg(['sum','count'])\n",
    "Groupby_first_digits_zipcode_M.columns=['Population','Municipalities_number']\n",
    "print(Groupby_first_digits_zipcode_M.head())"
   ]
  },
  {
   "cell_type": "code",
   "execution_count": 39,
   "metadata": {},
   "outputs": [
    {
     "name": "stdout",
     "output_type": "stream",
     "text": [
      "                      Doctors_number\n",
      "first_digits_zipcode                \n",
      "100                              393\n",
      "101                              153\n",
      "102                               36\n",
      "103                               32\n",
      "104                               25\n"
     ]
    }
   ],
   "source": [
    "# Creating new column with the first digits of zip code column - Healthcares\n",
    "Healthcares['Code Postal']=Healthcares['Code Postal'].astype('str')\n",
    "Healthcares['first_digits_zipcode']=Healthcares['Code Postal'].str[:3]\n",
    "Groupby_first_digits_zipcode_H=Healthcares.groupby('first_digits_zipcode')[['Code profession']].agg('count')\n",
    "Groupby_first_digits_zipcode_H.columns=['Doctors_number']\n",
    "print(Groupby_first_digits_zipcode_H.head())"
   ]
  },
  {
   "cell_type": "code",
   "execution_count": 40,
   "metadata": {
    "scrolled": true
   },
   "outputs": [
    {
     "name": "stdout",
     "output_type": "stream",
     "text": [
      "                      Doctors_number  Population  Municipalities_number\n",
      "first_digits_zipcode                                                   \n",
      "100                              393    145855.0                      4\n",
      "101                              153    105744.0                    138\n",
      "102                               36     43671.0                    129\n",
      "103                               32     39574.0                     65\n",
      "104                               25     40066.0                     37\n"
     ]
    }
   ],
   "source": [
    "# Merging both new dataset Groupby_first_digits_zipcode\n",
    "population_doctors_number=Groupby_first_digits_zipcode_H.join(Groupby_first_digits_zipcode_M,how='inner')\n",
    "print(population_doctors_number.head())"
   ]
  },
  {
   "cell_type": "markdown",
   "metadata": {},
   "source": [
    "## Data Storytelling"
   ]
  },
  {
   "cell_type": "code",
   "execution_count": 22,
   "metadata": {},
   "outputs": [
    {
     "data": {
      "image/png": "[encoded data removed]",
      "text/plain": [
       "<Figure size 432x288 with 1 Axes>"
      ]
     },
     "metadata": {
      "needs_background": "light"
     },
     "output_type": "display_data"
    },
    {
     "data": {
      "image/png": "[encoded data removed]",
      "text/plain": [
       "<Figure size 432x288 with 1 Axes>"
      ]
     },
     "metadata": {
      "needs_background": "light"
     },
     "output_type": "display_data"
    }
   ],
   "source": [
    "# ploting the new dataset \n",
    "population_doctors_number.plot(y='Population',x='Doctors_number',kind='scatter')\n",
    "plt.title('Number of doctors by population')\n",
    "plt.show()\n",
    "population_doctors_number.plot(y='Population',x='Doctors_number',kind='scatter')\n",
    "plt.xlim([0,2000])\n",
    "plt.ylim([0,1200000])\n",
    "plt.title('Zoom of number of doctors by population')\n",
    "plt.show()"
   ]
  },
  {
   "cell_type": "markdown",
   "metadata": {},
   "source": [
    "### Doctors number and Population by Region"
   ]
  },
  {
   "cell_type": "code",
   "execution_count": 25,
   "metadata": {
    "scrolled": true
   },
   "outputs": [
    {
     "data": {
      "image/png": "[encoded data removed]",
      "text/plain": [
       "<Figure size 432x288 with 1 Axes>"
      ]
     },
     "metadata": {
      "needs_background": "light"
     },
     "output_type": "display_data"
    },
    {
     "data": {
      "image/png": "[encoded data removed]",
      "text/plain": [
       "<Figure size 432x288 with 1 Axes>"
      ]
     },
     "metadata": {
      "needs_background": "light"
     },
     "output_type": "display_data"
    }
   ],
   "source": [
    "# Groupby the number of doctors by region\n",
    "Doctors_number_by_region=Healthcares.groupby('Région')[['Code profession']].count()\n",
    "Doctors_number_by_region.columns=['Doctors_number']\n",
    "# Groupby the population by region\n",
    "Population_by_region=Municipalities.groupby('NOM_REG')[['POPULATION']].count()\n",
    "Population_by_region.columns=['Population']\n",
    "#print(Population_by_region)\n",
    "# Merge both datasets\n",
    "Population_Doctors_by_region=Doctors_number_by_region.join(Population_by_region)\n",
    "Population_Doctors_by_region=Population_Doctors_by_region.sort_values('Doctors_number')\n",
    "# print(Population_Doctors_by_region)\n",
    "Population_Doctors_by_region.plot(y='Doctors_number',kind='bar',color='b')\n",
    "plt.title('Doctors by region')\n",
    "plt.show()\n",
    "Population_Doctors_by_region.plot(y='Population',kind='bar',color='r')\n",
    "plt.title('Population by region')\n",
    "plt.show()"
   ]
  },
  {
   "cell_type": "markdown",
   "metadata": {},
   "source": [
    "### Doctors number and Population by North and South of the France"
   ]
  },
  {
   "cell_type": "code",
   "execution_count": 26,
   "metadata": {},
   "outputs": [
    {
     "name": "stderr",
     "output_type": "stream",
     "text": [
      "C:\\Users\\Diane\\Anaconda3\\lib\\site-packages\\ipykernel_launcher.py:6: SettingWithCopyWarning: \n",
      "A value is trying to be set on a copy of a slice from a DataFrame\n",
      "\n",
      "See the caveats in the documentation: http://pandas.pydata.org/pandas-docs/stable/indexing.html#indexing-view-versus-copy\n",
      "  \n",
      "C:\\Users\\Diane\\Anaconda3\\lib\\site-packages\\ipykernel_launcher.py:11: SettingWithCopyWarning: \n",
      "A value is trying to be set on a copy of a slice from a DataFrame\n",
      "\n",
      "See the caveats in the documentation: http://pandas.pydata.org/pandas-docs/stable/indexing.html#indexing-view-versus-copy\n",
      "  # This is added back by InteractiveShellApp.init_path()\n"
     ]
    },
    {
     "name": "stdout",
     "output_type": "stream",
     "text": [
      "                            Doctors_number  Population North_South\n",
      "Région                                                            \n",
      "CORSE                                  768         418       South\n",
      "CENTRE-VAL DE LOIRE                   4244        1892       North\n",
      "BOURGOGNE-FRANCHE-COMTE               4887        4031       North\n",
      "NORMANDIE                             5360        3376       North\n",
      "BRETAGNE                              6032        1362       North\n",
      "PAYS DE LA LOIRE                      6157        1603       North\n",
      "HAUTS-DE-FRANCE                      10266        3947       North\n",
      "GRAND EST                            11514        5673       North\n",
      "NOUVELLE-AQUITAINE                   13225        4719       South\n",
      "OCCITANIE                            13375        4699       South\n",
      "PROVENCE-ALPES-COTE D'AZUR           13956        1155       South\n",
      "AUVERGNE-RHONE-ALPES                 17018        4467       South\n",
      "ILE-DE-FRANCE                        24161        1383       North\n"
     ]
    },
    {
     "data": {
      "image/png": "[encoded data removed]",
      "text/plain": [
       "<Figure size 432x288 with 1 Axes>"
      ]
     },
     "metadata": {
      "needs_background": "light"
     },
     "output_type": "display_data"
    },
    {
     "data": {
      "image/png": "[encoded data removed]",
      "text/plain": [
       "<Figure size 432x288 with 1 Axes>"
      ]
     },
     "metadata": {
      "needs_background": "light"
     },
     "output_type": "display_data"
    }
   ],
   "source": [
    "Population_Doctors_by_region['North_South']=''\n",
    "Population_Doctors_by_region.North_South[(Population_Doctors_by_region.index=='AUVERGNE-RHONE-ALPES')|\n",
    "                           (Population_Doctors_by_region.index=='CORSE')|\n",
    "                          (Population_Doctors_by_region.index=='OCCITANIE')|\n",
    "                          (Population_Doctors_by_region.index=='NOUVELLE-AQUITAINE')|\n",
    "                          (Population_Doctors_by_region.index==\"PROVENCE-ALPES-COTE D'AZUR\")]='South'\n",
    "Population_Doctors_by_region.North_South[(Population_Doctors_by_region.index!='AUVERGNE-RHONE-ALPES')&\n",
    "                           (Population_Doctors_by_region.index!='CORSE')&\n",
    "                          (Population_Doctors_by_region.index!='OCCITANIE')&\n",
    "                          (Population_Doctors_by_region.index!='NOUVELLE-AQUITAINE')&\n",
    "                          (Population_Doctors_by_region.index!=\"PROVENCE-ALPES-COTE D'AZUR\")]='North'\n",
    "print(Population_Doctors_by_region)\n",
    "Population_Doctors_by_region.boxplot(by='North_South',column='Population')\n",
    "plt.title('Population')\n",
    "plt.show()\n",
    "Population_Doctors_by_region.boxplot(by='North_South',column='Doctors_number')\n",
    "plt.title('Doctors')\n",
    "plt.show()"
   ]
  },
  {
   "cell_type": "code",
   "execution_count": 27,
   "metadata": {},
   "outputs": [],
   "source": [
    "# Groupby the number of doctors by region\n",
    "#Groupby_dept=data_merge.groupby('Département')['Code profession'].count()\n",
    "#print(Groupby_dept)"
   ]
  },
  {
   "cell_type": "markdown",
   "metadata": {},
   "source": [
    "### Doctors number by group of population"
   ]
  },
  {
   "cell_type": "code",
   "execution_count": 30,
   "metadata": {},
   "outputs": [
    {
     "name": "stdout",
     "output_type": "stream",
     "text": [
      "                    Doctors_number\n",
      "population_group                  \n",
      "0-pop<106k                       6\n",
      "1-106k<pop<=171k                26\n",
      "2-171k<pop<=246k                62\n",
      "3-246k<pop<=341k               107\n",
      "4-341k<pop<=478k               327\n",
      "5-478k<pop<=668k               880\n",
      "6-668k<pop<=982k              2106\n",
      "7-982k<pop<=1589k             5428\n",
      "8-1589k<pop<=3386k           13840\n",
      "9-3386k<pop                 123442\n"
     ]
    },
    {
     "data": {
      "image/png": "[encoded data removed]",
      "text/plain": [
       "<Figure size 432x288 with 1 Axes>"
      ]
     },
     "metadata": {
      "needs_background": "light"
     },
     "output_type": "display_data"
    }
   ],
   "source": [
    "# Groupby population group\n",
    "Groupby_population=data_merge.groupby('population_group')[['Code profession']].count()\n",
    "Groupby_population.columns=['Doctors_number']\n",
    "print(Groupby_population)\n",
    "Groupby_population.plot(kind='bar')\n",
    "plt.title('Doctors number by population group')\n",
    "plt.show()"
   ]
  },
  {
   "cell_type": "markdown",
   "metadata": {},
   "source": [
    "### Healthcares professional type by region"
   ]
  },
  {
   "cell_type": "code",
   "execution_count": 37,
   "metadata": {},
   "outputs": [
    {
     "name": "stdout",
     "output_type": "stream",
     "text": [
      "                 Profession         \n",
      "Code profession  Médecin généraliste    3767.923077\n",
      "                 Chirurgien-dentiste    2116.384615\n",
      "                 Radiologue              757.615385\n",
      "                 Psychiatre              393.538462\n",
      "                 Ophtalmologiste         329.769231\n",
      "Name: mean, dtype: float64\n"
     ]
    },
    {
     "data": {
      "image/png": "[encoded data removed]",
      "text/plain": [
       "<Figure size 432x288 with 1 Axes>"
      ]
     },
     "metadata": {
      "needs_background": "light"
     },
     "output_type": "display_data"
    },
    {
     "data": {
      "image/png": "[encoded data removed]",
      "text/plain": [
       "<Figure size 432x288 with 1 Axes>"
      ]
     },
     "metadata": {
      "needs_background": "light"
     },
     "output_type": "display_data"
    }
   ],
   "source": [
    "# Groupby type of healthcares professional by region\n",
    "Doctors_type_region=Healthcares.groupby(['Région','Profession'])[['Code profession']].count()\n",
    "Doctors_type_region=Doctors_type_region.unstack('Profession')\n",
    "print(Doctors_type_region.describe().iloc[1,:].sort_values(ascending=False).head())\n",
    "# Merge with Population_Doctors_by_region to keep the same index order\n",
    "Population_Doctors_by_region_2=Doctors_number_by_region.join(Doctors_type_region)\n",
    "Population_Doctors_by_region_2=Population_Doctors_by_region_2.sort_values('Doctors_number')\n",
    "#print(Population_Doctors_by_region_2)\n",
    "#print(Doctors_type_region.info())\n",
    "Population_Doctors_by_region_2.plot(y=('Code profession', 'Médecin généraliste'),kind='bar',color='g')\n",
    "plt.show()\n",
    "Population_Doctors_by_region_2.plot(y=('Code profession', 'Chirurgien-dentiste'),kind='bar',color='y')\n",
    "plt.show()"
   ]
  },
  {
   "cell_type": "code",
   "execution_count": null,
   "metadata": {},
   "outputs": [],
   "source": []
  }
 ],
 "metadata": {
  "kernelspec": {
   "display_name": "Python 3",
   "language": "python",
   "name": "python3"
  },
  "language_info": {
   "codemirror_mode": {
    "name": "ipython",
    "version": 3
   },
   "file_extension": ".py",
   "mimetype": "text/x-python",
   "name": "python",
   "nbconvert_exporter": "python",
   "pygments_lexer": "ipython3",
   "version": "3.7.1"
  }
 },
 "nbformat": 4,
 "nbformat_minor": 2
}
